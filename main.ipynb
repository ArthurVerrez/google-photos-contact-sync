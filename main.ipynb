{
 "cells": [
  {
   "cell_type": "markdown",
   "metadata": {},
   "source": [
    "### Importing dependencies\n"
   ]
  },
  {
   "cell_type": "code",
   "execution_count": null,
   "metadata": {},
   "outputs": [],
   "source": [
    "# Dependencies\n",
    "\n",
    "import os\n",
    "import pickle\n",
    "\n",
    "import requests\n",
    "import json\n",
    "\n",
    "from io import BytesIO\n",
    "# plt\n",
    "import matplotlib.pyplot as plt\n",
    "\n",
    "from googleapiclient.discovery import build\n",
    "from googleapiclient.http import MediaIoBaseDownload\n",
    "from google_auth_oauthlib.flow import InstalledAppFlow\n",
    "from google.auth.transport.requests import Request\n",
    "\n",
    "from PIL import Image\n",
    "from IPython.display import display\n",
    "\n",
    "# Constants\n",
    "SCOPES = ['https://www.googleapis.com/auth/photoslibrary.readonly']\n",
    "API_ENDPOINT = 'https://photoslibrary.googleapis.com'\n",
    "OAUTH_CALLBACK = 'http://localhost:8080/'\n",
    "CLIENT_SECRET_FILE = 'oauth_client_secret.json'\n",
    "APPLICATION_NAME = 'Photos Playground'"
   ]
  },
  {
   "cell_type": "code",
   "execution_count": null,
   "metadata": {},
   "outputs": [],
   "source": [
    "def get_credentials():\n",
    "    # Authenticate the user\n",
    "    creds = None\n",
    "    if os.path.exists('token.pickle'):\n",
    "        with open('token.pickle', 'rb') as token:\n",
    "            creds = pickle.load(token)\n",
    "\n",
    "    if not creds or not creds.valid:\n",
    "        if creds and creds.expired and creds.refresh_token:\n",
    "            creds.refresh(Request())\n",
    "        else:\n",
    "            flow = InstalledAppFlow.from_client_secrets_file(CLIENT_SECRET_FILE, SCOPES)\n",
    "            creds = flow.run_local_server(port=8080)\n",
    "        with open('token.pickle', 'wb') as token:\n",
    "            pickle.dump(creds, token)\n",
    "    return creds\n"
   ]
  },
  {
   "cell_type": "code",
   "execution_count": null,
   "metadata": {},
   "outputs": [],
   "source": [
    "# Get credentials for Google Photos by opening the browser and asking the user to authenticate\n",
    "creds=get_credentials()\n",
    "\n",
    "# We will not need to authenticate again because we will save the credentials in a file"
   ]
  },
  {
   "cell_type": "markdown",
   "metadata": {},
   "source": [
    "### Listing the latest pictures/videos in the library and displaying 1\n"
   ]
  },
  {
   "cell_type": "code",
   "execution_count": null,
   "metadata": {},
   "outputs": [],
   "source": [
    "r=requests.get(API_ENDPOINT+'/v1/mediaItems',headers={'Authorization':'Bearer '+creds.token})\n",
    "content=r.json()\n",
    "mediaItems=content['mediaItems']\n",
    "print('Number of media items: '+str(len(mediaItems)))\n",
    "print('First media item: ')\n",
    "print(json.dumps(mediaItems[0], indent=2))\n",
    "\n",
    "img_data = requests.get(mediaItems[0]['baseUrl']+'=w640-h480').content\n",
    "img = Image.open(BytesIO(img_data))\n",
    "plt.axis('off')\n",
    "plt.imshow(img)"
   ]
  },
  {
   "cell_type": "markdown",
   "metadata": {},
   "source": [
    "### Listing photos with PEOPLE content category\n"
   ]
  },
  {
   "cell_type": "code",
   "execution_count": null,
   "metadata": {},
   "outputs": [],
   "source": [
    "r=requests.post(\n",
    "    API_ENDPOINT+'/v1/mediaItems:search',\n",
    "    headers={'Authorization':'Bearer '+creds.token},\n",
    "    json={\n",
    "          'filters':{\n",
    "            \"contentFilter\":\n",
    "              {\"includedContentCategories\":[\"PEOPLE\"]},\n",
    "            \"mediaTypeFilter\":\n",
    "              {\"mediaTypes\":[\"PHOTO\"]}\n",
    "          }\n",
    "    } \n",
    "  )\n",
    "content=r.json()\n",
    "mediaItems=content['mediaItems']\n",
    "print('Number of media items: '+str(len(mediaItems)))\n",
    "print('First media item: ')\n",
    "print(json.dumps(mediaItems[0], indent=2))\n",
    "\n",
    "\n",
    "\n",
    "img_data = requests.get(mediaItems[0]['baseUrl']+'=w640-h480').content\n",
    "img = Image.open(BytesIO(img_data))\n",
    "plt.axis('off')\n",
    "plt.imshow(img)\n"
   ]
  },
  {
   "cell_type": "markdown",
   "metadata": {},
   "source": [
    "### Getting the entirety of the favorite photos\n"
   ]
  },
  {
   "cell_type": "code",
   "execution_count": null,
   "metadata": {},
   "outputs": [],
   "source": [
    "# We are going to have to loop through all the images in the favorites\n",
    "page_token = ''\n",
    "contents=[]\n",
    "while True:\n",
    "    r=requests.post(\n",
    "        API_ENDPOINT+'/v1/mediaItems:search',\n",
    "        headers={'Authorization':'Bearer '+creds.token},\n",
    "        json={'filters':\n",
    "                {\n",
    "                    \"featureFilter\": {\n",
    "                        \"includedFeatures\": [\n",
    "                            \"FAVORITES\"\n",
    "                        ]\n",
    "                    },\n",
    "                    \"mediaTypeFilter\": {\n",
    "                        \"mediaTypes\":[\"PHOTO\"]\n",
    "                    },\n",
    "\n",
    "                },\n",
    "                'pageSize':100,\n",
    "                'pageToken': page_token\n",
    "        }\n",
    "    )\n",
    "    content=r.json()\n",
    "    contents.append(content)\n",
    "    if 'nextPageToken' not in content:\n",
    "        break\n",
    "    page_token=content['nextPageToken']\n",
    "\n",
    "mediaItems=[]\n",
    "for content in contents:\n",
    "    mediaItems+=content['mediaItems']\n",
    "\n",
    "print('Number of media items: '+str(len(mediaItems)))\n",
    "\n",
    "# Display the first 10 items\n",
    "fig = plt.figure(figsize=(16, 16))\n",
    "for i in range(10):\n",
    "    img_data = requests.get(mediaItems[i]['baseUrl']+'=w640-h480').content\n",
    "    img = Image.open(BytesIO(img_data))\n",
    "    fig.add_subplot(5, 2, i+1)\n",
    "    plt.axis('off')\n",
    "    plt.imshow(img)\n",
    "\n",
    "plt.show()\n"
   ]
  }
 ],
 "metadata": {
  "kernelspec": {
   "display_name": "Python 3",
   "language": "python",
   "name": "python3"
  },
  "language_info": {
   "codemirror_mode": {
    "name": "ipython",
    "version": 3
   },
   "file_extension": ".py",
   "mimetype": "text/x-python",
   "name": "python",
   "nbconvert_exporter": "python",
   "pygments_lexer": "ipython3",
   "version": "3.10.5"
  },
  "orig_nbformat": 4
 },
 "nbformat": 4,
 "nbformat_minor": 2
}
