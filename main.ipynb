{
 "cells": [
  {
   "cell_type": "code",
   "execution_count": 2,
   "metadata": {},
   "outputs": [],
   "source": [
    "# The goal here is to download and display the latest Google Photo of a user after having identified them on localhost:8080\n",
    "# The user is identified by their email address\n",
    "# We'll be using the rest api, not the service\n",
    "\n",
    "# Imports\n",
    "import os\n",
    "import io\n",
    "import json\n",
    "import requests\n",
    "import pickle\n",
    "\n",
    "from googleapiclient.discovery import build\n",
    "from googleapiclient.http import MediaIoBaseDownload\n",
    "from google_auth_oauthlib.flow import InstalledAppFlow\n",
    "from google.auth.transport.requests import Request\n",
    "\n",
    "from PIL import Image\n",
    "from IPython.display import display\n",
    "\n",
    "# Constants\n",
    "SCOPES = ['https://www.googleapis.com/auth/photoslibrary.readonly']\n",
    "OAUTH_CALLBACK = 'http://localhost:8080/auth/google/callback'\n",
    "CLIENT_SECRET_FILE = 'oauth_client_secret.json'\n",
    "APPLICATION_NAME = 'Google Photos API Python Quickstart'\n",
    "\n",
    "def get_credentials():\n",
    "    # Authenticate the user\n",
    "    creds = None\n",
    "    if os.path.exists('token.pickle'):\n",
    "        with open('token.pickle', 'rb') as token:\n",
    "            creds = pickle.load(token)\n",
    "\n",
    "    if not creds or not creds.valid:\n",
    "        if creds and creds.expired and creds.refresh_token:\n",
    "            creds.refresh(Request())\n",
    "        else:\n",
    "            flow = InstalledAppFlow.from_client_secrets_file(CLIENT_SECRET_FILE, SCOPES)\n",
    "            creds = flow.run_local_server(port=8080)\n",
    "        with open('token.pickle', 'wb') as token:\n",
    "            pickle.dump(creds, token)\n",
    "\n",
    "    return creds\n"
   ]
  },
  {
   "cell_type": "code",
   "execution_count": 3,
   "metadata": {},
   "outputs": [],
   "source": []
  },
  {
   "cell_type": "code",
   "execution_count": 7,
   "metadata": {},
   "outputs": [
    {
     "name": "stdout",
     "output_type": "stream",
     "text": [
      "200\n",
      "200\n"
     ]
    },
    {
     "data": {
      "text/plain": [
       "('test.jpg', <http.client.HTTPMessage at 0x156ea06dba0>)"
      ]
     },
     "execution_count": 7,
     "metadata": {},
     "output_type": "execute_result"
    }
   ],
   "source": [
    "API_ENDPOINT = 'https://photoslibrary.googleapis.com'\n",
    "creds=get_credentials()\n",
    "# Do a GET https://photoslibrary.googleapis.com/v1/mediaItems\n",
    "\n",
    "import requests\n",
    "import json\n",
    "\n",
    "r=requests.get(API_ENDPOINT+'/v1/mediaItems',headers={'Authorization':'Bearer '+creds.token})\n",
    "print(r.status_code)\n",
    "content=r.json()\n",
    "mediaItems=content['mediaItems']\n",
    "\n",
    "# GET https://photoslibrary.googleapis.com/v1/mediaItems/{mediaItemId}\n",
    "\n",
    "r=requests.get(API_ENDPOINT+'/v1/mediaItems/'+mediaItems[0]['id'],headers={'Authorization':'Bearer '+creds.token})\n",
    "\n",
    "print(r.status_code)\n",
    "content=r.json()\n",
    "\n",
    "# Download image at content['baseUrl'] and save it to the path specified by filename\n",
    "\n",
    "import urllib.request\n",
    "\n",
    "urllib.request.urlretrieve(content['baseUrl'],filename='test.jpg')\n",
    "\n",
    "\n"
   ]
  },
  {
   "cell_type": "code",
   "execution_count": null,
   "metadata": {},
   "outputs": [],
   "source": []
  }
 ],
 "metadata": {
  "kernelspec": {
   "display_name": "Python 3",
   "language": "python",
   "name": "python3"
  },
  "language_info": {
   "codemirror_mode": {
    "name": "ipython",
    "version": 3
   },
   "file_extension": ".py",
   "mimetype": "text/x-python",
   "name": "python",
   "nbconvert_exporter": "python",
   "pygments_lexer": "ipython3",
   "version": "3.10.5"
  },
  "orig_nbformat": 4
 },
 "nbformat": 4,
 "nbformat_minor": 2
}
